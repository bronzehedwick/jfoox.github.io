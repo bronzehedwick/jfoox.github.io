{
 "cells": [
  {
   "cell_type": "code",
   "execution_count": 1,
   "metadata": {
    "collapsed": false
   },
   "outputs": [
    {
     "name": "stdout",
     "output_type": "stream",
     "text": [
      "/Users/jfoox\n"
     ]
    }
   ],
   "source": [
    "cd ~"
   ]
  },
  {
   "cell_type": "code",
   "execution_count": 18,
   "metadata": {
    "collapsed": true
   },
   "outputs": [],
   "source": [
    "tally = {}\n",
    "prescounter = 0"
   ]
  },
  {
   "cell_type": "code",
   "execution_count": 19,
   "metadata": {
    "collapsed": false
   },
   "outputs": [],
   "source": [
    "with open('binary_matrix_min_2_taxa_FLIPPED', 'r') as infile:\n",
    "    for line in infile:\n",
    "        line = line.strip()\n",
    "        for char in line:\n",
    "            if char == '1':\n",
    "                prescounter += 1\n",
    "        if prescounter not in tally:\n",
    "            tally[prescounter] = 1\n",
    "        else:\n",
    "            tally[prescounter] += 1\n",
    "        prescounter = 0"
   ]
  },
  {
   "cell_type": "code",
   "execution_count": 20,
   "metadata": {
    "collapsed": false
   },
   "outputs": [
    {
     "name": "stdout",
     "output_type": "stream",
     "text": [
      "1\t1\n",
      "2\t255\n",
      "3\t202\n",
      "4\t3622\n",
      "5\t1240\n",
      "6\t675\n",
      "7\t504\n",
      "8\t279\n",
      "9\t112\n",
      "10\t43\n",
      "11\t10\n",
      "12\t9\n",
      "13\t2\n",
      "14\t2\n",
      "15\t1\n"
     ]
    }
   ],
   "source": [
    "for i in tally:\n",
    "    print str(i) + '\\t' + str(tally[i])"
   ]
  },
  {
   "cell_type": "code",
   "execution_count": 22,
   "metadata": {
    "collapsed": false
   },
   "outputs": [
    {
     "name": "stdout",
     "output_type": "stream",
     "text": [
      "msa3\t1991\n",
      "henn\t2770\n",
      "kudo\t1114\n",
      "chlo\t2203\n",
      "mac1\t2820\n",
      "Hydra\t397\n",
      "Hydractinia\t451\n",
      "Sphaeromyxa\t82\n",
      "Nematostella\t504\n",
      "Exaiptasia\t561\n",
      "Polypodium\t252\n",
      "pend\t1338\n",
      "Aurelia\t576\n",
      "paralintoni\t73\n",
      "cere\t1344\n",
      "Enteromyxum\t86\n",
      "GenBank\t15\n",
      "thelo\t1189\n"
     ]
    }
   ],
   "source": [
    "presence = 0\n",
    "min5_membership = {}\n",
    "with open('binary_matrix_min_5_taxa', 'r') as binfile:\n",
    "    for line in binfile:\n",
    "        line = line.strip().split('\\t')\n",
    "        for char in line[1]:\n",
    "            if char == '1':\n",
    "                presence += 1\n",
    "        min5_membership[line[0]] = presence\n",
    "        presence = 0\n",
    "        \n",
    "for i in min5_membership:\n",
    "    print i + '\\t' + str(min5_membership[i])"
   ]
  },
  {
   "cell_type": "code",
   "execution_count": 13,
   "metadata": {
    "collapsed": false
   },
   "outputs": [
    {
     "name": "stdout",
     "output_type": "stream",
     "text": [
      "1890681\n"
     ]
    },
    {
     "ename": "SystemExit",
     "evalue": "",
     "output_type": "error",
     "traceback": [
      "An exception has occurred, use %tb to see the full traceback.\n",
      "\u001b[0;31mSystemExit\u001b[0m\n"
     ]
    },
    {
     "name": "stderr",
     "output_type": "stream",
     "text": [
      "To exit: use 'exit', 'quit', or Ctrl-D.\n"
     ]
    }
   ],
   "source": [
    "import sys\n",
    "with open('supermatrix_min_4_taxa', 'r') as infile:\n",
    "    for line in infile:\n",
    "        line = line.strip().split('\\t')\n",
    "        print len(line[1])\n",
    "        sys.exit()"
   ]
  },
  {
   "cell_type": "code",
   "execution_count": 14,
   "metadata": {
    "collapsed": false
   },
   "outputs": [
    {
     "name": "stdout",
     "output_type": "stream",
     "text": [
      "743250\n"
     ]
    },
    {
     "ename": "SystemExit",
     "evalue": "",
     "output_type": "error",
     "traceback": [
      "An exception has occurred, use %tb to see the full traceback.\n",
      "\u001b[0;31mSystemExit\u001b[0m\n"
     ]
    },
    {
     "name": "stderr",
     "output_type": "stream",
     "text": [
      "To exit: use 'exit', 'quit', or Ctrl-D.\n"
     ]
    }
   ],
   "source": [
    "import sys\n",
    "with open('supermatrix_min_5_taxa', 'r') as infile:\n",
    "    for line in infile:\n",
    "        line = line.strip().split('\\t')\n",
    "        print len(line[1])\n",
    "        sys.exit()"
   ]
  },
  {
   "cell_type": "code",
   "execution_count": null,
   "metadata": {
    "collapsed": false
   },
   "outputs": [],
   "source": []
  },
  {
   "cell_type": "code",
   "execution_count": null,
   "metadata": {
    "collapsed": true
   },
   "outputs": [],
   "source": []
  }
 ],
 "metadata": {
  "kernelspec": {
   "display_name": "Python 2",
   "language": "python",
   "name": "python2"
  },
  "language_info": {
   "codemirror_mode": {
    "name": "ipython",
    "version": 2
   },
   "file_extension": ".py",
   "mimetype": "text/x-python",
   "name": "python",
   "nbconvert_exporter": "python",
   "pygments_lexer": "ipython2",
   "version": "2.7.11"
  }
 },
 "nbformat": 4,
 "nbformat_minor": 0
}
